{
 "cells": [
  {
   "cell_type": "code",
   "execution_count": 2,
   "id": "2fcd9425-9022-4009-adff-eccfb050c808",
   "metadata": {},
   "outputs": [],
   "source": [
    "import os\n",
    "import pandas as ps\n",
    "import requests"
   ]
  },
  {
   "cell_type": "code",
   "execution_count": 4,
   "id": "a7a552aa-6352-4ff8-8f3f-1e706b0aa68c",
   "metadata": {},
   "outputs": [],
   "source": [
    "path = os.getcwd()"
   ]
  },
  {
   "cell_type": "code",
   "execution_count": 6,
   "id": "c22ecddf-4578-4056-a1b5-26d807006435",
   "metadata": {},
   "outputs": [
    {
     "data": {
      "text/plain": [
       "'/Users/francescascipioni/Library/Mobile Documents/com~apple~CloudDocs/Work/Berkley MIDS/Elective Courses/DATASCI 281/Project'"
      ]
     },
     "execution_count": 6,
     "metadata": {},
     "output_type": "execute_result"
    }
   ],
   "source": [
    "path"
   ]
  }
 ],
 "metadata": {
  "kernelspec": {
   "display_name": "Python [conda env:base] *",
   "language": "python",
   "name": "conda-base-py"
  },
  "language_info": {
   "codemirror_mode": {
    "name": "ipython",
    "version": 3
   },
   "file_extension": ".py",
   "mimetype": "text/x-python",
   "name": "python",
   "nbconvert_exporter": "python",
   "pygments_lexer": "ipython3",
   "version": "3.12.2"
  }
 },
 "nbformat": 4,
 "nbformat_minor": 5
}
